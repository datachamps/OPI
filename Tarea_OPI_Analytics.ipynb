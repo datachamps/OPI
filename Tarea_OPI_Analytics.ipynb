{
 "cells": [
  {
   "cell_type": "markdown",
   "metadata": {},
   "source": [
    "# Prueba OPI Analytics"
   ]
  },
  {
   "cell_type": "markdown",
   "metadata": {},
   "source": [
    "## Prueba A. Estimación de Bebés en Toluca"
   ]
  },
  {
   "cell_type": "code",
   "execution_count": 2,
   "metadata": {},
   "outputs": [],
   "source": [
    "import pandas as pd\n",
    "import numpy as np\n",
    "import matplotlib.pyplot as plt"
   ]
  },
  {
   "cell_type": "markdown",
   "metadata": {},
   "source": [
    "#### Tabla 1"
   ]
  },
  {
   "cell_type": "code",
   "execution_count": 3,
   "metadata": {},
   "outputs": [
    {
     "name": "stdout",
     "output_type": "stream",
     "text": [
      "<class 'pandas.core.frame.DataFrame'>\n",
      "Index(['Edomex TOTAL', 'Toluca TOTAL', '%Toluca', 'Fcst'], dtype='object')\n"
     ]
    },
    {
     "data": {
      "text/html": [
       "<div>\n",
       "<style scoped>\n",
       "    .dataframe tbody tr th:only-of-type {\n",
       "        vertical-align: middle;\n",
       "    }\n",
       "\n",
       "    .dataframe tbody tr th {\n",
       "        vertical-align: top;\n",
       "    }\n",
       "\n",
       "    .dataframe thead th {\n",
       "        text-align: right;\n",
       "    }\n",
       "</style>\n",
       "<table border=\"1\" class=\"dataframe\">\n",
       "  <thead>\n",
       "    <tr style=\"text-align: right;\">\n",
       "      <th></th>\n",
       "      <th>Edomex TOTAL</th>\n",
       "      <th>Toluca TOTAL</th>\n",
       "      <th>%Toluca</th>\n",
       "      <th>Fcst</th>\n",
       "    </tr>\n",
       "    <tr>\n",
       "      <th>Año</th>\n",
       "      <th></th>\n",
       "      <th></th>\n",
       "      <th></th>\n",
       "      <th></th>\n",
       "    </tr>\n",
       "  </thead>\n",
       "  <tbody>\n",
       "    <tr>\n",
       "      <td>2008</td>\n",
       "      <td>290337.0</td>\n",
       "      <td>39810.0</td>\n",
       "      <td>0.14</td>\n",
       "      <td>0.0</td>\n",
       "    </tr>\n",
       "    <tr>\n",
       "      <td>2009</td>\n",
       "      <td>286081.0</td>\n",
       "      <td>41273.0</td>\n",
       "      <td>0.14</td>\n",
       "      <td>0.0</td>\n",
       "    </tr>\n",
       "    <tr>\n",
       "      <td>2010</td>\n",
       "      <td>271902.0</td>\n",
       "      <td>39787.0</td>\n",
       "      <td>0.15</td>\n",
       "      <td>0.0</td>\n",
       "    </tr>\n",
       "    <tr>\n",
       "      <td>2011</td>\n",
       "      <td>280865.0</td>\n",
       "      <td>40027.0</td>\n",
       "      <td>0.14</td>\n",
       "      <td>0.0</td>\n",
       "    </tr>\n",
       "    <tr>\n",
       "      <td>2012</td>\n",
       "      <td>289888.0</td>\n",
       "      <td>40846.0</td>\n",
       "      <td>0.14</td>\n",
       "      <td>0.0</td>\n",
       "    </tr>\n",
       "    <tr>\n",
       "      <td>2013</td>\n",
       "      <td>279869.0</td>\n",
       "      <td>37714.0</td>\n",
       "      <td>0.13</td>\n",
       "      <td>40348.6</td>\n",
       "    </tr>\n",
       "    <tr>\n",
       "      <td>2014</td>\n",
       "      <td>215108.0</td>\n",
       "      <td>28138.0</td>\n",
       "      <td>0.13</td>\n",
       "      <td>39929.4</td>\n",
       "    </tr>\n",
       "    <tr>\n",
       "      <td>2015</td>\n",
       "      <td>266552.0</td>\n",
       "      <td>35872.0</td>\n",
       "      <td>0.13</td>\n",
       "      <td>37302.4</td>\n",
       "    </tr>\n",
       "    <tr>\n",
       "      <td>2016</td>\n",
       "      <td>0.0</td>\n",
       "      <td>0.0</td>\n",
       "      <td>0.00</td>\n",
       "      <td>36519.4</td>\n",
       "    </tr>\n",
       "    <tr>\n",
       "      <td>2017</td>\n",
       "      <td>0.0</td>\n",
       "      <td>0.0</td>\n",
       "      <td>0.00</td>\n",
       "      <td>35642.5</td>\n",
       "    </tr>\n",
       "    <tr>\n",
       "      <td>2018</td>\n",
       "      <td>0.0</td>\n",
       "      <td>0.0</td>\n",
       "      <td>0.00</td>\n",
       "      <td>33908.0</td>\n",
       "    </tr>\n",
       "    <tr>\n",
       "      <td>2019</td>\n",
       "      <td>0.0</td>\n",
       "      <td>0.0</td>\n",
       "      <td>0.00</td>\n",
       "      <td>32005.0</td>\n",
       "    </tr>\n",
       "    <tr>\n",
       "      <td>2020</td>\n",
       "      <td>0.0</td>\n",
       "      <td>0.0</td>\n",
       "      <td>0.00</td>\n",
       "      <td>35872.0</td>\n",
       "    </tr>\n",
       "  </tbody>\n",
       "</table>\n",
       "</div>"
      ],
      "text/plain": [
       "      Edomex TOTAL  Toluca TOTAL  %Toluca     Fcst\n",
       "Año                                               \n",
       "2008      290337.0       39810.0     0.14      0.0\n",
       "2009      286081.0       41273.0     0.14      0.0\n",
       "2010      271902.0       39787.0     0.15      0.0\n",
       "2011      280865.0       40027.0     0.14      0.0\n",
       "2012      289888.0       40846.0     0.14      0.0\n",
       "2013      279869.0       37714.0     0.13  40348.6\n",
       "2014      215108.0       28138.0     0.13  39929.4\n",
       "2015      266552.0       35872.0     0.13  37302.4\n",
       "2016           0.0           0.0     0.00  36519.4\n",
       "2017           0.0           0.0     0.00  35642.5\n",
       "2018           0.0           0.0     0.00  33908.0\n",
       "2019           0.0           0.0     0.00  32005.0\n",
       "2020           0.0           0.0     0.00  35872.0"
      ]
     },
     "execution_count": 3,
     "metadata": {},
     "output_type": "execute_result"
    }
   ],
   "source": [
    "PATH1 = \"D:/0_DATALAB/OPI/Ejercicio_A(Bebes)/toluca.csv\"\n",
    "data1 = round(pd.read_csv(PATH1).set_index('Año').fillna(0),2)# csv\n",
    "print(type(data1))\n",
    "print(data1.columns)\n",
    "data1"
   ]
  },
  {
   "cell_type": "code",
   "execution_count": 5,
   "metadata": {},
   "outputs": [
    {
     "data": {
      "text/plain": [
       "<matplotlib.axes._subplots.AxesSubplot at 0x1ac12f5c1c8>"
      ]
     },
     "execution_count": 5,
     "metadata": {},
     "output_type": "execute_result"
    },
    {
     "data": {
      "image/png": "[encoded data removed]",
      "text/plain": [
       "<Figure size 432x288 with 1 Axes>"
      ]
     },
     "metadata": {
      "needs_background": "light"
     },
     "output_type": "display_data"
    }
   ],
   "source": [
    "#data1['Edomex TOTAL'].iloc[:8].plot(legend=True,marker='o')\n",
    "data1['Toluca TOTAL'].head(8).plot(legend=True,marker='o')\n",
    "data1['Fcst'].tail(8).plot(legend=True,marker='o')\n"
   ]
  },
  {
   "cell_type": "code",
   "execution_count": 20,
   "metadata": {},
   "outputs": [
    {
     "data": {
      "text/plain": [
       "0.139"
      ]
     },
     "execution_count": 20,
     "metadata": {},
     "output_type": "execute_result"
    }
   ],
   "source": [
    "round(data1['%Toluca'].head(8).mean(),3)"
   ]
  },
  {
   "cell_type": "markdown",
   "metadata": {},
   "source": [
    "#### tabla 2"
   ]
  },
  {
   "cell_type": "code",
   "execution_count": 30,
   "metadata": {},
   "outputs": [
    {
     "name": "stdout",
     "output_type": "stream",
     "text": [
      "<class 'pandas.core.frame.DataFrame'>\n"
     ]
    },
    {
     "data": {
      "text/html": [
       "<div>\n",
       "<style scoped>\n",
       "    .dataframe tbody tr th:only-of-type {\n",
       "        vertical-align: middle;\n",
       "    }\n",
       "\n",
       "    .dataframe tbody tr th {\n",
       "        vertical-align: top;\n",
       "    }\n",
       "\n",
       "    .dataframe thead th {\n",
       "        text-align: right;\n",
       "    }\n",
       "</style>\n",
       "<table border=\"1\" class=\"dataframe\">\n",
       "  <thead>\n",
       "    <tr style=\"text-align: right;\">\n",
       "      <th></th>\n",
       "      <th>MEX</th>\n",
       "      <th>EdoMex</th>\n",
       "      <th>%EdoMex</th>\n",
       "      <th>Toluca</th>\n",
       "      <th>Fcst1</th>\n",
       "      <th>Fcst2</th>\n",
       "      <th>Fcst</th>\n",
       "    </tr>\n",
       "    <tr>\n",
       "      <th>año</th>\n",
       "      <th></th>\n",
       "      <th></th>\n",
       "      <th></th>\n",
       "      <th></th>\n",
       "      <th></th>\n",
       "      <th></th>\n",
       "      <th></th>\n",
       "    </tr>\n",
       "  </thead>\n",
       "  <tbody>\n",
       "    <tr>\n",
       "      <td>2010</td>\n",
       "      <td>2643908.0</td>\n",
       "      <td>335898.0</td>\n",
       "      <td>0.0</td>\n",
       "      <td>46690.0</td>\n",
       "      <td>0.0</td>\n",
       "      <td>45738</td>\n",
       "      <td>0.0</td>\n",
       "    </tr>\n",
       "    <tr>\n",
       "      <td>2011</td>\n",
       "      <td>2586287.0</td>\n",
       "      <td>327165.0</td>\n",
       "      <td>0.0</td>\n",
       "      <td>45476.0</td>\n",
       "      <td>0.0</td>\n",
       "      <td>44786</td>\n",
       "      <td>0.0</td>\n",
       "    </tr>\n",
       "    <tr>\n",
       "      <td>2012</td>\n",
       "      <td>2498880.0</td>\n",
       "      <td>326412.0</td>\n",
       "      <td>0.0</td>\n",
       "      <td>45371.0</td>\n",
       "      <td>0.0</td>\n",
       "      <td>43835</td>\n",
       "      <td>0.0</td>\n",
       "    </tr>\n",
       "    <tr>\n",
       "      <td>2013</td>\n",
       "      <td>2478889.0</td>\n",
       "      <td>317834.0</td>\n",
       "      <td>0.0</td>\n",
       "      <td>44179.0</td>\n",
       "      <td>45846.0</td>\n",
       "      <td>42883</td>\n",
       "      <td>0.0</td>\n",
       "    </tr>\n",
       "    <tr>\n",
       "      <td>2014</td>\n",
       "      <td>2463420.0</td>\n",
       "      <td>316088.0</td>\n",
       "      <td>0.0</td>\n",
       "      <td>43936.0</td>\n",
       "      <td>45009.0</td>\n",
       "      <td>41931</td>\n",
       "      <td>0.0</td>\n",
       "    </tr>\n",
       "    <tr>\n",
       "      <td>2015</td>\n",
       "      <td>2353596.0</td>\n",
       "      <td>303778.0</td>\n",
       "      <td>0.0</td>\n",
       "      <td>42225.0</td>\n",
       "      <td>44495.0</td>\n",
       "      <td>40979</td>\n",
       "      <td>0.0</td>\n",
       "    </tr>\n",
       "    <tr>\n",
       "      <td>2016</td>\n",
       "      <td>2293708.0</td>\n",
       "      <td>295635.0</td>\n",
       "      <td>0.0</td>\n",
       "      <td>41093.0</td>\n",
       "      <td>43447.0</td>\n",
       "      <td>40028</td>\n",
       "      <td>0.0</td>\n",
       "    </tr>\n",
       "    <tr>\n",
       "      <td>2017</td>\n",
       "      <td>2234039.0</td>\n",
       "      <td>286204.0</td>\n",
       "      <td>0.0</td>\n",
       "      <td>39782.0</td>\n",
       "      <td>42418.0</td>\n",
       "      <td>39076</td>\n",
       "      <td>39782.0</td>\n",
       "    </tr>\n",
       "    <tr>\n",
       "      <td>2018</td>\n",
       "      <td>0.0</td>\n",
       "      <td>0.0</td>\n",
       "      <td>0.0</td>\n",
       "      <td>0.0</td>\n",
       "      <td>41034.0</td>\n",
       "      <td>38124</td>\n",
       "      <td>39579.0</td>\n",
       "    </tr>\n",
       "    <tr>\n",
       "      <td>2019</td>\n",
       "      <td>0.0</td>\n",
       "      <td>0.0</td>\n",
       "      <td>0.0</td>\n",
       "      <td>0.0</td>\n",
       "      <td>40438.0</td>\n",
       "      <td>37172</td>\n",
       "      <td>38805.0</td>\n",
       "    </tr>\n",
       "    <tr>\n",
       "      <td>2020</td>\n",
       "      <td>0.0</td>\n",
       "      <td>0.0</td>\n",
       "      <td>0.0</td>\n",
       "      <td>0.0</td>\n",
       "      <td>39782.0</td>\n",
       "      <td>36221</td>\n",
       "      <td>38002.0</td>\n",
       "    </tr>\n",
       "  </tbody>\n",
       "</table>\n",
       "</div>"
      ],
      "text/plain": [
       "            MEX    EdoMex  %EdoMex   Toluca    Fcst1  Fcst2     Fcst\n",
       "año                                                                 \n",
       "2010  2643908.0  335898.0      0.0  46690.0      0.0  45738      0.0\n",
       "2011  2586287.0  327165.0      0.0  45476.0      0.0  44786      0.0\n",
       "2012  2498880.0  326412.0      0.0  45371.0      0.0  43835      0.0\n",
       "2013  2478889.0  317834.0      0.0  44179.0  45846.0  42883      0.0\n",
       "2014  2463420.0  316088.0      0.0  43936.0  45009.0  41931      0.0\n",
       "2015  2353596.0  303778.0      0.0  42225.0  44495.0  40979      0.0\n",
       "2016  2293708.0  295635.0      0.0  41093.0  43447.0  40028      0.0\n",
       "2017  2234039.0  286204.0      0.0  39782.0  42418.0  39076  39782.0\n",
       "2018        0.0       0.0      0.0      0.0  41034.0  38124  39579.0\n",
       "2019        0.0       0.0      0.0      0.0  40438.0  37172  38805.0\n",
       "2020        0.0       0.0      0.0      0.0  39782.0  36221  38002.0"
      ]
     },
     "execution_count": 30,
     "metadata": {},
     "output_type": "execute_result"
    }
   ],
   "source": [
    "PATH2 = \"D:/0_DATALAB/OPI/Ejercicio_A(Bebes)/toluca2.csv\"\n",
    "data2 = round(pd.read_csv(PATH2),0).set_index('año').fillna(0)# csv\n",
    "print(type(data2))\n",
    "data2"
   ]
  },
  {
   "cell_type": "code",
   "execution_count": 25,
   "metadata": {},
   "outputs": [
    {
     "data": {
      "text/plain": [
       "<matplotlib.axes._subplots.AxesSubplot at 0x27261d66a08>"
      ]
     },
     "execution_count": 25,
     "metadata": {},
     "output_type": "execute_result"
    },
    {
     "data": {
      "image/png": "[encoded data removed]",
      "text/plain": [
       "<Figure size 432x288 with 1 Axes>"
      ]
     },
     "metadata": {
      "needs_background": "light"
     },
     "output_type": "display_data"
    }
   ],
   "source": [
    "data2['Toluca'].iloc[:8].plot(legend=True,marker='o')\n",
    "data2['Fcst'].tail(4).plot(legend=True,marker='o')\n",
    "data2['Fcst1'].tail(8).plot(legend=True,marker='o')\n",
    "data2['Fcst2'].plot(legend=True,marker='o')"
   ]
  },
  {
   "cell_type": "markdown",
   "metadata": {},
   "source": [
    "El criterio de de pronóstico es el siguiente: Fcts1 es un MA(3) y Fcts2 una aproximación lineal y Fcts es un promedio de ambos."
   ]
  },
  {
   "cell_type": "markdown",
   "metadata": {},
   "source": [
    "### Conclusión Caso A\n",
    "El estimado de bebés de 0-6 meses en Toluca para el 2020 es de entre **35,872 y 38,002 bebés**.\n",
    "\n",
    "**Justificacion**:\n",
    "\n",
    "Con base a los datos:\n",
    "\n",
    "* Fuente:Dirección de Planeación, Programación, Evaluación y Estadística con Bases de Certificados de Nacimiento, Sistema Nacional de Información en Salud, Secretaria de Salud 2008-2014.(Dirección General de Informacion en Salud, 2015)\n",
    "* Nacimientos registrados por Entidad federativa de residencia habitual de la madre, Periodo y Sexo (https://www.inegi.org.mx/app/tabulados/interactivos/default?px=Natalidad_01&bd=Natalidad, Con cifras que se refieren a los nacimientos registrados por entidad federativa de residencia habitual de la madre. Fuente: INEGI. Estadísticas de Natalidad.) \n",
    "\n",
    "Se proyectaron los nacimientos para el estado de México y se estimó la proporción correspondiente para Toluca.\n",
    "\n",
    "En la sigiente tablas se muestran los datos involucrados:"
   ]
  },
  {
   "cell_type": "markdown",
   "metadata": {},
   "source": [
    "## B. Análisis de Comparación de Precios\n"
   ]
  },
  {
   "cell_type": "markdown",
   "metadata": {},
   "source": [
    "----------------------------------------------------------------------\n",
    "### 1.Procesamiento de los datos\n",
    "----------------------------------------------------------------------"
   ]
  },
  {
   "cell_type": "code",
   "execution_count": null,
   "metadata": {},
   "outputs": [],
   "source": [
    "from pyspark.sql import SQLContext\n",
    "sqlContext = SQLContext(sc)"
   ]
  },
  {
   "cell_type": "code",
   "execution_count": null,
   "metadata": {},
   "outputs": [],
   "source": [
    "#    ¿Cuántos registros hay?\n",
    "\n",
    "registros = sqlContext.sql(\"SELECT COUNT(*) FROM profeco\").show()\n",
    "count = dataframe.first()['count'] \n",
    "\n",
    "#    ¿Cuántas categorías?\n",
    "#val cats = data.select(countDistinct(\"categorias\"))\n",
    "categorias = sqlContext.sql(\"SELECT COUNT(DISTINCT categorias) FROM profeco\").show()\n",
    "\n",
    "#    ¿Cómo podrías determinar la calidad de los datos?\n",
    "\n",
    "\n",
    "#    ¿Detectaste algún tipo de inconsistencia o error en la fuente?\n",
    "R. No cuenta con columna PRIMARY KEY ID \n",
    "Hay registros deben homologarse o estandarizarse\n",
    "Hay registros vacíos o con NA o sin información\n",
    "\n",
    "#    ¿Cuáles son los productos más monitoreados en cada entidad?\n",
    "productos_max = sqlContext.sql(\"\"\"\n",
    "    SELECT estado, municipio, producto, MAX(conteo) AS maximo\n",
    "    FROM (\n",
    "        SELECT estado, municipio, producto, COUNT(producto) AS conteo\n",
    "        FROM profeco\n",
    "        GROUP BY estado, municipio, producto)\n",
    "    \"\"\").show()\n",
    "\n",
    "#    ¿Cuál es la cadena comercial con mayor variedad de productos monitoreados?\n",
    "variedad_max = sqlContext.sql(\"\"\"\n",
    "    SELECT cadenacomercial, MAX(conteo)\n",
    "    FROM(\n",
    "        SELECT cadenacomercial, COUNT(producto) AS 'conteo' \n",
    "        FROM profeco\n",
    "        GROUP BY cadenacomercial)\n",
    "    \"\"\").show()\n",
    "\n",
    "#    Genera una canasta de productos básicos que te permita comparar los precios geográfica y temporalmente. "
   ]
  },
  {
   "cell_type": "markdown",
   "metadata": {},
   "source": [
    " $CB = {maíz, frijol, leche, huevo, arroz, azucar, harina, aceite, atun,...}$\n",
    " \n",
    " Métrica: total de precios de la CB:\n",
    " \n",
    " $CCB = CCB(t, X, E) = pmaíz + pfrijol + pleche + phuevo + parroz + pazucar + pharina + paceite + patun +...$\n",
    " \n",
    " $t$: fecha, $X$: producto, $E$: Estado\n",
    " \n",
    " * Tabla Final: | fecha | estado | CCB |\n",
    " * Tablas Previas: | fecha | estado | producto | precio |\n",
    "\n",
    "Dashbd: Serie de Tiempo de CCB segmentada por estado + Tabla de Ranking por Estado"
   ]
  },
  {
   "cell_type": "code",
   "execution_count": null,
   "metadata": {},
   "outputs": [],
   "source": [
    "CB = sqlContext.sql(\"\"\"\n",
    "    SELECT fecha, estado, producto, AVG(precio), \n",
    "    FROM profeco\n",
    "    WHERE producto IN {maíz, frijol, leche, huevo, arroz, azucar, harina, aceite, atun,...}\n",
    "    \"\"\").show()\n",
    "\n",
    "\n",
    "pivotX = CB.pivot_table(\n",
    "    index=['fecha'], \n",
    "    columns=['estado'],#, 'usa'], \n",
    "    values='precios',\n",
    "    aggfunc=np.avg\n",
    ").reset_index()\n",
    "\n",
    "pivotX.index.name = pivotX.columns.name = None\n",
    "\n",
    "tableX = round(pivotX.fillna(0),1)\n",
    "\n"
   ]
  },
  {
   "cell_type": "markdown",
   "metadata": {},
   "source": [
    "----------------------------------------------------------------------\n",
    "## 2. Análisis exploratorio.\n",
    "----------------------------------------------------------------------"
   ]
  },
  {
   "cell_type": "code",
   "execution_count": null,
   "metadata": {},
   "outputs": [],
   "source": [
    "#    ¿Cuál es la ciudad más cara del país? (CIUDAD?)\n",
    "ciudad = sqlContext.sql(\"\"\"\n",
    "    SELECT estado, municipio, MAX(precio_prom)\n",
    "    FROM(\n",
    "        SELECT estado, municipio, AVG(precio) AS 'precio_prom' \n",
    "        FROM profeco\n",
    "        GROUP BY cadenacomercial)\n",
    "    \"\"\").show()\n",
    "\n",
    "#    ¿Cuál es la más barata?\n",
    "ciudad = sqlContext.sql(\"\"\"\n",
    "    SELECT estado, municipio, MIN(precio_prom)\n",
    "    FROM(\n",
    "        SELECT estado, municipio, AVG(precio) AS 'precio_prom' \n",
    "        FROM profeco\n",
    "        GROUP BY cadenacomercial)\n",
    "    \"\"\").show()\n",
    "\n",
    "#    ¿Hay algún patrón estacional entre años?\n",
    "\n",
    "\n",
    "#    ¿Cuál es el estado más caro y en qué mes?\n",
    "ciudad = sqlContext.sql(\"\"\"\n",
    "    SELECT estado, municipio, MAX(precio_prom)\n",
    "    FROM(\n",
    "        SELECT estado, municipio, AVG(precio) AS 'precio_prom' \n",
    "        FROM profeco\n",
    "        GROUP BY cadenacomercial)\n",
    "    \"\"\").show()"
   ]
  },
  {
   "cell_type": "code",
   "execution_count": null,
   "metadata": {},
   "outputs": [],
   "source": [
    "table[{'DISTRITO FEDERAL','MEXICO',....}].plot(legend=True,marker='o')"
   ]
  },
  {
   "cell_type": "markdown",
   "metadata": {},
   "source": [
    "* **Este caso fué hecho sin la ejecusión en el ambiente spark con procesamiento paralelo para archivos  grandes. Solo el bosquejaron los códigos involucrados para ejecutar los análisis y dar respuesta propuesta a las preguntas del problema**"
   ]
  },
  {
   "cell_type": "markdown",
   "metadata": {},
   "source": [
    "## C. Buy Online Pickup at Store (BOPS) Initiative"
   ]
  },
  {
   "cell_type": "markdown",
   "metadata": {},
   "source": [
    "## Brick-and-Mortar Sales"
   ]
  },
  {
   "cell_type": "code",
   "execution_count": 5,
   "metadata": {},
   "outputs": [
    {
     "data": {
      "text/html": [
       "<div>\n",
       "<style scoped>\n",
       "    .dataframe tbody tr th:only-of-type {\n",
       "        vertical-align: middle;\n",
       "    }\n",
       "\n",
       "    .dataframe tbody tr th {\n",
       "        vertical-align: top;\n",
       "    }\n",
       "\n",
       "    .dataframe thead th {\n",
       "        text-align: right;\n",
       "    }\n",
       "</style>\n",
       "<table border=\"1\" class=\"dataframe\">\n",
       "  <thead>\n",
       "    <tr style=\"text-align: right;\">\n",
       "      <th></th>\n",
       "      <th>id (store)</th>\n",
       "      <th>year</th>\n",
       "      <th>month</th>\n",
       "      <th>week</th>\n",
       "      <th>usa</th>\n",
       "      <th>after</th>\n",
       "      <th>sales</th>\n",
       "    </tr>\n",
       "  </thead>\n",
       "  <tbody>\n",
       "    <tr>\n",
       "      <td>0</td>\n",
       "      <td>1</td>\n",
       "      <td>2011</td>\n",
       "      <td>4</td>\n",
       "      <td>16</td>\n",
       "      <td>0</td>\n",
       "      <td>0</td>\n",
       "      <td>118690.700000</td>\n",
       "    </tr>\n",
       "    <tr>\n",
       "      <td>1</td>\n",
       "      <td>1</td>\n",
       "      <td>2011</td>\n",
       "      <td>4</td>\n",
       "      <td>17</td>\n",
       "      <td>0</td>\n",
       "      <td>0</td>\n",
       "      <td>113804.266667</td>\n",
       "    </tr>\n",
       "    <tr>\n",
       "      <td>2</td>\n",
       "      <td>1</td>\n",
       "      <td>2011</td>\n",
       "      <td>4</td>\n",
       "      <td>18</td>\n",
       "      <td>0</td>\n",
       "      <td>0</td>\n",
       "      <td>172104.333333</td>\n",
       "    </tr>\n",
       "    <tr>\n",
       "      <td>3</td>\n",
       "      <td>1</td>\n",
       "      <td>2011</td>\n",
       "      <td>5</td>\n",
       "      <td>19</td>\n",
       "      <td>0</td>\n",
       "      <td>0</td>\n",
       "      <td>105590.966667</td>\n",
       "    </tr>\n",
       "    <tr>\n",
       "      <td>4</td>\n",
       "      <td>1</td>\n",
       "      <td>2011</td>\n",
       "      <td>5</td>\n",
       "      <td>20</td>\n",
       "      <td>0</td>\n",
       "      <td>0</td>\n",
       "      <td>94884.300000</td>\n",
       "    </tr>\n",
       "  </tbody>\n",
       "</table>\n",
       "</div>"
      ],
      "text/plain": [
       "   id (store)  year  month  week  usa  after          sales\n",
       "0           1  2011      4    16    0      0  118690.700000\n",
       "1           1  2011      4    17    0      0  113804.266667\n",
       "2           1  2011      4    18    0      0  172104.333333\n",
       "3           1  2011      5    19    0      0  105590.966667\n",
       "4           1  2011      5    20    0      0   94884.300000"
      ]
     },
     "execution_count": 5,
     "metadata": {},
     "output_type": "execute_result"
    }
   ],
   "source": [
    "PATH3 = \"D:/0_DATALAB/OPI/Ejercicio_C(BOPS)/BOPS_case/BOPS_case/B&PSales.csv\"\n",
    "bops_bm = pd.read_csv(PATH3, delimiter='|')#, sep=r'\\s*,\\s*', header=0, encoding='ascii', engine='python') # csv\n",
    "#bops_bm = data3.loc[:, ~data3.columns.str.contains('^Unnamed')]\n",
    "#print(type(bops_bm))\n",
    "#print(bops_bm.shape)\n",
    "#print(bops_bm.dtypes)\n",
    "bops_bm.head(5)"
   ]
  },
  {
   "cell_type": "code",
   "execution_count": 214,
   "metadata": {},
   "outputs": [],
   "source": [
    "#grouped_year.get_group(2012)\n",
    "#round(bops_bm.groupby('year')['sales'].agg(sum),1)"
   ]
  },
  {
   "cell_type": "markdown",
   "metadata": {},
   "source": [
    "### After vs Before"
   ]
  },
  {
   "cell_type": "code",
   "execution_count": 15,
   "metadata": {},
   "outputs": [],
   "source": [
    "pivot = bops_bm.pivot_table(\n",
    "    index=['year', 'month'], \n",
    "    columns=['after'],#, 'usa'], \n",
    "    values='sales',\n",
    "    aggfunc=np.sum\n",
    ").reset_index()\n",
    "\n",
    "pivot.index.name = pivot.columns.name = None\n",
    "\n",
    "table = round(pivot.rename(columns={0:'before',1:'after'}).fillna(0),1)\n",
    "#table "
   ]
  },
  {
   "cell_type": "code",
   "execution_count": 73,
   "metadata": {},
   "outputs": [],
   "source": [
    "table['Diff'] = table['before']-table['after']\n",
    "#table"
   ]
  },
  {
   "cell_type": "code",
   "execution_count": 74,
   "metadata": {},
   "outputs": [],
   "source": [
    "summ_bm = bops_bm.pivot_table(\n",
    "    index=['after'],\n",
    "    values='sales',\n",
    "    aggfunc=np.sum\n",
    ").reset_index()\n",
    "\n",
    "pivot.index.name = pivot.columns.name = None\n",
    "#round(summ_bm ,1)"
   ]
  },
  {
   "cell_type": "code",
   "execution_count": 76,
   "metadata": {},
   "outputs": [
    {
     "name": "stdout",
     "output_type": "stream",
     "text": [
      "-----------------------------------------\n",
      "Una diferencia de: -17111574.1\n",
      "-----------------------------------------\n"
     ]
    }
   ],
   "source": [
    "print('-----------------------------------------')\n",
    "print(\"Una diferencia de:\", round(summ_bm['sales'].min() - summ_bm['sales'].max(),1))\n",
    "print('-----------------------------------------')"
   ]
  },
  {
   "cell_type": "code",
   "execution_count": 85,
   "metadata": {},
   "outputs": [
    {
     "data": {
      "text/plain": [
       "<matplotlib.axes._subplots.AxesSubplot at 0x2b6e842cdc8>"
      ]
     },
     "execution_count": 85,
     "metadata": {},
     "output_type": "execute_result"
    },
    {
     "data": {
      "image/png": "[encoded data removed]",
      "text/plain": [
       "<Figure size 432x288 with 1 Axes>"
      ]
     },
     "metadata": {
      "needs_background": "light"
     },
     "output_type": "display_data"
    }
   ],
   "source": [
    "table[{'before','after'}].plot(legend=True,marker='o')"
   ]
  },
  {
   "cell_type": "markdown",
   "metadata": {},
   "source": [
    "### Usa vs Canada"
   ]
  },
  {
   "cell_type": "code",
   "execution_count": 17,
   "metadata": {},
   "outputs": [],
   "source": [
    "pivot2 = bops_bm.pivot_table(\n",
    "    index=['year', 'month'], \n",
    "    columns=['usa'], \n",
    "    values='sales',\n",
    "    aggfunc=np.sum\n",
    ").reset_index()\n",
    "\n",
    "pivot2.index.name = pivot2.columns.name = None\n",
    "\n",
    "table2 = round(pivot2.rename(columns={0:'canada',1:'usa'}).fillna(0),1)\n",
    "#table2 "
   ]
  },
  {
   "cell_type": "code",
   "execution_count": 243,
   "metadata": {},
   "outputs": [
    {
     "data": {
      "text/plain": [
       "<matplotlib.axes._subplots.AxesSubplot at 0x27208333348>"
      ]
     },
     "execution_count": 243,
     "metadata": {},
     "output_type": "execute_result"
    },
    {
     "data": {
      "image/png": "[encoded data removed]",
      "text/plain": [
       "<Figure size 432x288 with 1 Axes>"
      ]
     },
     "metadata": {
      "needs_background": "light"
     },
     "output_type": "display_data"
    }
   ],
   "source": [
    "table2[{'usa','canada'}].plot(legend=True,marker='o')"
   ]
  },
  {
   "cell_type": "markdown",
   "metadata": {},
   "source": [
    "### Full Comparison"
   ]
  },
  {
   "cell_type": "code",
   "execution_count": 26,
   "metadata": {},
   "outputs": [],
   "source": [
    "pivot3 = bops_bm.pivot_table(\n",
    "    index=['year', 'month'], \n",
    "    columns=['after', 'usa'], \n",
    "    values='sales',\n",
    "    aggfunc=np.sum\n",
    ").reset_index()\n",
    "\n",
    "pivot3.index.name = pivot3.columns.name = None\n",
    "#pivot3"
   ]
  },
  {
   "cell_type": "code",
   "execution_count": 84,
   "metadata": {},
   "outputs": [],
   "source": [
    "flattened = pd.DataFrame(pivot3.to_records())\n",
    "#round(flattened ,2)\n",
    "#print(flattened.columns)\n",
    "flattened.columns = [hdr.replace(\"(\",\"\").replace(\")\",\"\").replace(\",\",\"\") \\\n",
    "                     for hdr in flattened.columns]\n",
    "#print(flattened.columns)"
   ]
  },
  {
   "cell_type": "code",
   "execution_count": 77,
   "metadata": {},
   "outputs": [],
   "source": [
    "Table3 = round(flattened.rename(columns={'year ''':'year','month ''':'month','0 0':'before_usa','0 1':'before_can','1 0':'after_usa','1 1':'after_can'}).fillna(0),1)\n",
    "#Table3 "
   ]
  },
  {
   "cell_type": "code",
   "execution_count": 78,
   "metadata": {},
   "outputs": [],
   "source": [
    "Table3['DiffUsa']= Table3['before_usa']-Table3['after_usa']\n",
    "Table3['DiffCan']= Table3['before_can']-Table3['after_can']\n",
    "#Table3"
   ]
  },
  {
   "cell_type": "code",
   "execution_count": 342,
   "metadata": {},
   "outputs": [
    {
     "data": {
      "text/plain": [
       "<matplotlib.axes._subplots.AxesSubplot at 0x2723f80f148>"
      ]
     },
     "execution_count": 342,
     "metadata": {},
     "output_type": "execute_result"
    },
    {
     "data": {
      "image/png": "[encoded data removed]",
      "text/plain": [
       "<Figure size 432x288 with 1 Axes>"
      ]
     },
     "metadata": {
      "needs_background": "light"
     },
     "output_type": "display_data"
    }
   ],
   "source": [
    "#pivot3[{(0,0),(0,1),(1,0),(1,1)}].plot(legend=True,marker='o')\n",
    "Table3[{'before_usa','after_usa','before_canada','after_canada'}].plot(legend=True,marker='o')"
   ]
  },
  {
   "cell_type": "markdown",
   "metadata": {},
   "source": [
    "## Online Sales"
   ]
  },
  {
   "cell_type": "code",
   "execution_count": 57,
   "metadata": {},
   "outputs": [
    {
     "data": {
      "text/html": [
       "<div>\n",
       "<style scoped>\n",
       "    .dataframe tbody tr th:only-of-type {\n",
       "        vertical-align: middle;\n",
       "    }\n",
       "\n",
       "    .dataframe tbody tr th {\n",
       "        vertical-align: top;\n",
       "    }\n",
       "\n",
       "    .dataframe thead th {\n",
       "        text-align: right;\n",
       "    }\n",
       "</style>\n",
       "<table border=\"1\" class=\"dataframe\">\n",
       "  <thead>\n",
       "    <tr style=\"text-align: right;\">\n",
       "      <th></th>\n",
       "      <th>id (DMA)</th>\n",
       "      <th>year</th>\n",
       "      <th>month</th>\n",
       "      <th>week</th>\n",
       "      <th>after</th>\n",
       "      <th>close</th>\n",
       "      <th>sales</th>\n",
       "    </tr>\n",
       "  </thead>\n",
       "  <tbody>\n",
       "    <tr>\n",
       "      <td>0</td>\n",
       "      <td>1</td>\n",
       "      <td>2011</td>\n",
       "      <td>4</td>\n",
       "      <td>17</td>\n",
       "      <td>0</td>\n",
       "      <td>1</td>\n",
       "      <td>18564.5</td>\n",
       "    </tr>\n",
       "    <tr>\n",
       "      <td>1</td>\n",
       "      <td>1</td>\n",
       "      <td>2011</td>\n",
       "      <td>4</td>\n",
       "      <td>18</td>\n",
       "      <td>0</td>\n",
       "      <td>1</td>\n",
       "      <td>30882.6</td>\n",
       "    </tr>\n",
       "    <tr>\n",
       "      <td>2</td>\n",
       "      <td>1</td>\n",
       "      <td>2011</td>\n",
       "      <td>5</td>\n",
       "      <td>19</td>\n",
       "      <td>0</td>\n",
       "      <td>1</td>\n",
       "      <td>37424.9</td>\n",
       "    </tr>\n",
       "    <tr>\n",
       "      <td>3</td>\n",
       "      <td>1</td>\n",
       "      <td>2011</td>\n",
       "      <td>5</td>\n",
       "      <td>20</td>\n",
       "      <td>0</td>\n",
       "      <td>1</td>\n",
       "      <td>32562.7</td>\n",
       "    </tr>\n",
       "    <tr>\n",
       "      <td>4</td>\n",
       "      <td>1</td>\n",
       "      <td>2011</td>\n",
       "      <td>5</td>\n",
       "      <td>21</td>\n",
       "      <td>0</td>\n",
       "      <td>1</td>\n",
       "      <td>35772.7</td>\n",
       "    </tr>\n",
       "  </tbody>\n",
       "</table>\n",
       "</div>"
      ],
      "text/plain": [
       "   id (DMA)  year  month  week  after  close    sales\n",
       "0         1  2011      4    17      0      1  18564.5\n",
       "1         1  2011      4    18      0      1  30882.6\n",
       "2         1  2011      5    19      0      1  37424.9\n",
       "3         1  2011      5    20      0      1  32562.7\n",
       "4         1  2011      5    21      0      1  35772.7"
      ]
     },
     "execution_count": 57,
     "metadata": {},
     "output_type": "execute_result"
    }
   ],
   "source": [
    "PATH4 = \"D:/0_DATALAB/OPI/Ejercicio_C(BOPS)/BOPS_case/BOPS_case/OnlineSales.csv\"\n",
    "bops_online = pd.read_csv(PATH4, delimiter='|') # csv\n",
    "#bops_online = data4.loc[:, ~data4.columns.str.contains('^Unnamed')]\n",
    "#print(type(bops_online))\n",
    "#print(bops_online.shape)\n",
    "#print(bops_online.dtypes)\n",
    "round(bops_online.head(5),1)"
   ]
  },
  {
   "cell_type": "code",
   "execution_count": 69,
   "metadata": {},
   "outputs": [],
   "source": [
    "#bops_online['sales'].plot(legend=True,marker='o')\n",
    "#bops_online.columns"
   ]
  },
  {
   "cell_type": "markdown",
   "metadata": {},
   "source": [
    "### After vs Before"
   ]
  },
  {
   "cell_type": "code",
   "execution_count": 42,
   "metadata": {},
   "outputs": [],
   "source": [
    "pivot4 = bops_online.pivot_table(\n",
    "    index=['year', 'month'], \n",
    "    columns=['after'],#, 'usa'], \n",
    "    values='sales',\n",
    "    aggfunc=np.sum\n",
    ").reset_index()\n",
    "\n",
    "pivot4.index.name = pivot4.columns.name = None\n",
    "\n",
    "table4 = round(pivot4.rename(columns={0:'before',1:'after'}).fillna(0),1)\n",
    "#table4 "
   ]
  },
  {
   "cell_type": "code",
   "execution_count": 87,
   "metadata": {},
   "outputs": [
    {
     "name": "stdout",
     "output_type": "stream",
     "text": [
      "-----------------------------------------\n",
      "Una diferencia de: -17111574.1\n",
      "-----------------------------------------\n"
     ]
    }
   ],
   "source": [
    "summ_online = bops_online.pivot_table(\n",
    "    index=['after'],\n",
    "    values='sales',\n",
    "    aggfunc=np.sum\n",
    ").reset_index()\n",
    "\n",
    "summ_online.index.name = summ_online.columns.name = None\n",
    "#round(summ_online ,1)\n",
    "print('-----------------------------------------')\n",
    "print(\"Una diferencia de:\", round(summ_online['sales'].min() - summ_online['sales'].max(),1))\n",
    "print('-----------------------------------------')"
   ]
  },
  {
   "cell_type": "code",
   "execution_count": 39,
   "metadata": {},
   "outputs": [
    {
     "data": {
      "text/plain": [
       "<matplotlib.axes._subplots.AxesSubplot at 0x2b70138a0c8>"
      ]
     },
     "execution_count": 39,
     "metadata": {},
     "output_type": "execute_result"
    },
    {
     "data": {
      "image/png": "[encoded data removed]",
      "text/plain": [
       "<Figure size 432x288 with 1 Axes>"
      ]
     },
     "metadata": {
      "needs_background": "light"
     },
     "output_type": "display_data"
    }
   ],
   "source": [
    "table4[{'before','after'}].plot(legend=True,marker='o')"
   ]
  },
  {
   "cell_type": "code",
   "execution_count": 71,
   "metadata": {},
   "outputs": [],
   "source": [
    "table4['Diff']=table4['before']-table4['after']\n",
    "#table4"
   ]
  },
  {
   "cell_type": "markdown",
   "metadata": {},
   "source": [
    "### By Closness"
   ]
  },
  {
   "cell_type": "code",
   "execution_count": 70,
   "metadata": {},
   "outputs": [],
   "source": [
    "pivot5 = bops_online.pivot_table(\n",
    "    index=['year', 'month'], \n",
    "    columns=['close'], \n",
    "    values='sales',\n",
    "    aggfunc=np.sum\n",
    ").reset_index()\n",
    "\n",
    "pivot5.index.name = pivot2.columns.name = None\n",
    "\n",
    "table5 = round(pivot5.rename(columns={0:'far',1:'close'}).fillna(0),1)\n",
    "#table5 "
   ]
  },
  {
   "cell_type": "code",
   "execution_count": 349,
   "metadata": {},
   "outputs": [
    {
     "data": {
      "text/plain": [
       "<matplotlib.axes._subplots.AxesSubplot at 0x27248eab488>"
      ]
     },
     "execution_count": 349,
     "metadata": {},
     "output_type": "execute_result"
    },
    {
     "data": {
      "image/png": "[encoded data removed]",
      "text/plain": [
       "<Figure size 432x288 with 1 Axes>"
      ]
     },
     "metadata": {
      "needs_background": "light"
     },
     "output_type": "display_data"
    }
   ],
   "source": [
    "table5[{'far','close'}].plot(legend=True,marker='o')"
   ]
  },
  {
   "cell_type": "markdown",
   "metadata": {},
   "source": [
    "### Full Comparison"
   ]
  },
  {
   "cell_type": "code",
   "execution_count": 53,
   "metadata": {},
   "outputs": [],
   "source": [
    "pivot6 = bops_online.pivot_table(\n",
    "    index=['year', 'month'],\n",
    "    columns=['after','close'], \n",
    "    values='sales',\n",
    "    aggfunc=np.sum\n",
    ").reset_index()\n",
    "\n",
    "pivot6.index.name = pivot6.columns.name = None\n",
    "#pivot6\n",
    "\n",
    "flattened = pd.DataFrame(pivot6.to_records())\n",
    "#print(flattened.columns)\n",
    "#round(flattened ,2)\n",
    "\n",
    "flattened.columns = [hdr.replace(\"(\",\"\").replace(\")\",\"\").replace(\",\",\"\") \\\n",
    "                     for hdr in flattened.columns]\n",
    "#print(flattened.columns)\n",
    "\n",
    "Table6 = round(flattened.rename(columns={'year ''':'year','month ''':'month','0 0':'before_close','0 1':'before_far','1 0':'after_close','1 1':'after_far'}).fillna(0),1)\n",
    "#Table6 "
   ]
  },
  {
   "cell_type": "code",
   "execution_count": 72,
   "metadata": {},
   "outputs": [],
   "source": [
    "Table6['CloseDiff']=Table6['before_close']-Table6['after_close']\n",
    "Table6['FarDiff']=Table6['before_far']-Table6['after_far']\n",
    "\n",
    "#Table6 "
   ]
  },
  {
   "cell_type": "code",
   "execution_count": 54,
   "metadata": {},
   "outputs": [
    {
     "data": {
      "text/plain": [
       "<matplotlib.axes._subplots.AxesSubplot at 0x2b6e31aec88>"
      ]
     },
     "execution_count": 54,
     "metadata": {},
     "output_type": "execute_result"
    },
    {
     "data": {
      "image/png": "[encoded data removed]",
      "text/plain": [
       "<Figure size 432x288 with 1 Axes>"
      ]
     },
     "metadata": {
      "needs_background": "light"
     },
     "output_type": "display_data"
    }
   ],
   "source": [
    "Table6[{'before_close','after_close','before_far','after_far'}].plot(legend=True,marker='o')"
   ]
  },
  {
   "cell_type": "markdown",
   "metadata": {},
   "source": [
    "### Conclusión Caso C\n",
    "\n",
    "* **¿Deberían expandirse a Canadá?**\n",
    "\n",
    "R. The over all behavior of sales didn´t show a substancial benefit, the general trend is negative after the BOPS implementation. We recomend to to make adjustments to the strattegy implementation...\n",
    "\n",
    "* **¿Cuántos millones de dólaresse ganaron o perdieron a partir del programa? Explicatu razonamiento y metodología**\n",
    "\n",
    "R. We made a general trend comparison analysis form sales data after and before de implementation of BOPS strategy. Algo we include market trend segmentation...."
   ]
  },
  {
   "cell_type": "markdown",
   "metadata": {},
   "source": []
  }
 ],
 "metadata": {
  "kernelspec": {
   "display_name": "Python 3",
   "language": "python",
   "name": "python3"
  },
  "language_info": {
   "codemirror_mode": {
    "name": "ipython",
    "version": 3
   },
   "file_extension": ".py",
   "mimetype": "text/x-python",
   "name": "python",
   "nbconvert_exporter": "python",
   "pygments_lexer": "ipython3",
   "version": "3.7.4"
  }
 },
 "nbformat": 4,
 "nbformat_minor": 2
}
